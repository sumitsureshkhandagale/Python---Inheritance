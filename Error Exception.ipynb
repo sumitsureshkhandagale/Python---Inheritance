{
  "nbformat": 4,
  "nbformat_minor": 0,
  "metadata": {
    "colab": {
      "provenance": [],
      "authorship_tag": "ABX9TyOKWkSu6nARuF7xK0TecebX",
      "include_colab_link": true
    },
    "kernelspec": {
      "name": "python3",
      "display_name": "Python 3"
    },
    "language_info": {
      "name": "python"
    }
  },
  "cells": [
    {
      "cell_type": "markdown",
      "metadata": {
        "id": "view-in-github",
        "colab_type": "text"
      },
      "source": [
        "<a href=\"https://colab.research.google.com/github/sumitsureshkhandagale/Python---Inheritance/blob/main/Error%20Exception.ipynb\" target=\"_parent\"><img src=\"https://colab.research.google.com/assets/colab-badge.svg\" alt=\"Open In Colab\"/></a>"
      ]
    },
    {
      "cell_type": "code",
      "execution_count": 27,
      "metadata": {
        "colab": {
          "base_uri": "https://localhost:8080/"
        },
        "id": "fkBZwNiKXO4E",
        "outputId": "52825d32-1522-484b-a9c5-743532134181"
      },
      "outputs": [
        {
          "output_type": "stream",
          "name": "stdout",
          "text": [
            "Enter 1st No.5\n",
            "Enter 2nd No.2\n",
            "0\n",
            "default\n"
          ]
        }
      ],
      "source": [
        "from logging import exception\n",
        "try:\n",
        "  a=int(input(\"Enter 1st No.\"))\n",
        "  b=int(input(\"Enter 2nd No.\"))\n",
        "  c=0//(a-b)\n",
        "  print(c)\n",
        "\n",
        "except ZeroDivisionError as e:\n",
        "  print(\"Integer Error\",e)\n",
        "\n",
        "except ValueError as e:\n",
        "  print(\"Something Wrong\",e)\n",
        "\n",
        "except Exception as e:\n",
        "  print(\"Kuch toh hua he bhai\",e)\n",
        "\n",
        "finally:\n",
        "  print('default')\n"
      ]
    },
    {
      "cell_type": "code",
      "source": [],
      "metadata": {
        "id": "auEpMEUsn_ty"
      },
      "execution_count": null,
      "outputs": []
    }
  ]
}