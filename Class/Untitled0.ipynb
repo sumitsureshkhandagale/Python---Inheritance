{
  "nbformat": 4,
  "nbformat_minor": 0,
  "metadata": {
    "colab": {
      "provenance": []
    },
    "kernelspec": {
      "name": "python3",
      "display_name": "Python 3"
    },
    "language_info": {
      "name": "python"
    }
  },
  "cells": [
    {
      "cell_type": "code",
      "execution_count": 7,
      "metadata": {
        "colab": {
          "base_uri": "https://localhost:8080/"
        },
        "id": "b61hmZy52HlO",
        "outputId": "844cecba-91ea-4874-f67d-ddecc8cf55bb"
      },
      "outputs": [
        {
          "output_type": "stream",
          "name": "stdout",
          "text": [
            "This is a papa class method\n",
            "This is a child class method\n"
          ]
        }
      ],
      "source": [
        "class papa:\n",
        "  def msg(self):\n",
        "    print(\"This is a papa class method\")\n",
        "class child(papa):\n",
        "  def msg2(self):\n",
        "    print(\"This is a child class method\")\n",
        "\n",
        "obj=child()\n",
        "obj.msg()\n",
        "obj.msg2()"
      ]
    }
  ]
}