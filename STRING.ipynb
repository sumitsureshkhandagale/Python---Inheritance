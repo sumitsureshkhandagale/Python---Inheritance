{
  "nbformat": 4,
  "nbformat_minor": 0,
  "metadata": {
    "colab": {
      "provenance": []
    },
    "kernelspec": {
      "name": "python3",
      "display_name": "Python 3"
    },
    "language_info": {
      "name": "python"
    }
  },
  "cells": [
    {
      "cell_type": "code",
      "execution_count": 7,
      "metadata": {
        "colab": {
          "base_uri": "https://localhost:8080/"
        },
        "id": "b61hmZy52HlO",
        "outputId": "844cecba-91ea-4874-f67d-ddecc8cf55bb"
      },
      "outputs": [
        {
          "output_type": "stream",
          "name": "stdout",
          "text": [
            "This is a papa class method\n",
            "This is a child class method\n"
          ]
        }
      ],
      "source": [
        "class papa:\n",
        "  def msg(self):\n",
        "    print(\"This is a papa class method\")\n",
        "class child(papa):\n",
        "  def msg2(self):\n",
        "    print(\"This is a child class method\")\n",
        "\n",
        "obj=child()\n",
        "obj.msg()\n",
        "obj.msg2()"
      ]
    },
    {
      "cell_type": "code",
      "source": [
        "n=int(input(\"Enter a number\"))\n",
        "for i in range(1,10+1):\n",
        "  t=n*i\n",
        "  print(n,\"x\",i,\"=\",t)"
      ],
      "metadata": {
        "colab": {
          "base_uri": "https://localhost:8080/"
        },
        "id": "xfJkjEYPHwsS",
        "outputId": "d5e73b68-8f8d-4469-e3f5-418c59a3cb30"
      },
      "execution_count": 13,
      "outputs": [
        {
          "output_type": "stream",
          "name": "stdout",
          "text": [
            "Enter a number2\n",
            "2 x 1 = 2\n",
            "2 x 2 = 4\n",
            "2 x 3 = 6\n",
            "2 x 4 = 8\n",
            "2 x 5 = 10\n",
            "2 x 6 = 12\n",
            "2 x 7 = 14\n",
            "2 x 8 = 16\n",
            "2 x 9 = 18\n",
            "2 x 10 = 20\n"
          ]
        }
      ]
    },
    {
      "cell_type": "code",
      "source": [
        "n=input(\"Enter your Email Id:\")\n",
        "countc=0\n",
        "countd=0\n",
        "counts=0\n",
        "for i in n:\n",
        "  if i.isalpha():\n",
        "    countc=countc+1\n",
        "  elif i.isdigit():\n",
        "    countd=countd+1\n",
        "  else:\n",
        "    counts=counts+1\n",
        "\n",
        "print(\"Number of Characters:\",countc)\n",
        "print(\"Number of Digits\",countd)\n",
        "print(\"Number of special characters:\",counts)"
      ],
      "metadata": {
        "colab": {
          "base_uri": "https://localhost:8080/"
        },
        "id": "qjTKcVusQtZ5",
        "outputId": "2b5389cd-7d3b-4d9e-8228-b1c685c659e6"
      },
      "execution_count": 18,
      "outputs": [
        {
          "output_type": "stream",
          "name": "stdout",
          "text": [
            "Enter your Email Id:sumitkhandagale483@gmail.com\n",
            "Number of Characters: 23\n",
            "Number of Digits 3\n",
            "Number of special characters: 2\n"
          ]
        }
      ]
    }
  ]
}